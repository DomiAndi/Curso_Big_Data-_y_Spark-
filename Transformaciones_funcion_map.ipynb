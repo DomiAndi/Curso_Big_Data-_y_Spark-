{
  "nbformat": 4,
  "nbformat_minor": 0,
  "metadata": {
    "colab": {
      "provenance": [],
      "authorship_tag": "ABX9TyNPBi+rr2NBaa+J5LkdCCgd",
      "include_colab_link": true
    },
    "kernelspec": {
      "name": "python3",
      "display_name": "Python 3"
    },
    "language_info": {
      "name": "python"
    }
  },
  "cells": [
    {
      "cell_type": "markdown",
      "metadata": {
        "id": "view-in-github",
        "colab_type": "text"
      },
      "source": [
        "<a href=\"https://colab.research.google.com/github/DomiAndi/Curso_Big_Data_y_Spark/blob/main/Transformaciones_funcion_map.ipynb\" target=\"_parent\"><img src=\"https://colab.research.google.com/assets/colab-badge.svg\" alt=\"Open In Colab\"/></a>"
      ]
    },
    {
      "cell_type": "code",
      "execution_count": 1,
      "metadata": {
        "id": "xh6q8cg4Nhts"
      },
      "outputs": [],
      "source": [
        "# Instalar SDK java 8\n",
        "!apt-get install openjdk-8-jdk-headless -qq > /dev/null"
      ]
    },
    {
      "cell_type": "code",
      "source": [
        "# Descargar Spark 3.4.3\n",
        "!wget -q https://archive.apache.org/dist/spark/spark-3.4.3/spark-3.4.3-bin-hadoop3.tgz"
      ],
      "metadata": {
        "id": "CoY1AnAZOW3d"
      },
      "execution_count": 2,
      "outputs": []
    },
    {
      "cell_type": "code",
      "source": [
        "# Descomprimir el archivo descargado de Spark\n",
        "!tar xf spark-3.4.3-bin-hadoop3.tgz"
      ],
      "metadata": {
        "id": "y3gl4rkjOfi2"
      },
      "execution_count": 3,
      "outputs": []
    },
    {
      "cell_type": "code",
      "source": [
        "# Establecer las variables de entorno\n",
        "import os\n",
        "\n",
        "os.environ[\"JAVA_HOME\"] = \"/usr/lib/jvm/java-8-openjdk-amd64\"\n",
        "os.environ[\"SPARK_HOME\"] = \"/content/spark-3.4.3-bin-hadoop3\""
      ],
      "metadata": {
        "id": "9jOTfa80Ojgc"
      },
      "execution_count": 4,
      "outputs": []
    },
    {
      "cell_type": "code",
      "source": [
        "# Instalar la librería findspark\n",
        "!pip install -q findspark"
      ],
      "metadata": {
        "id": "ovGqwv2hOk9V"
      },
      "execution_count": 5,
      "outputs": []
    },
    {
      "cell_type": "code",
      "source": [
        "# Instalar pyspark\n",
        "!pip install -q pyspark"
      ],
      "metadata": {
        "colab": {
          "base_uri": "https://localhost:8080/"
        },
        "id": "-hCUtmZSOqt2",
        "outputId": "de420499-2b32-4f97-c3ab-4e091113091a"
      },
      "execution_count": 6,
      "outputs": [
        {
          "output_type": "stream",
          "name": "stdout",
          "text": [
            "\u001b[2K     \u001b[90m━━━━━━━━━━━━━━━━━━━━━━━━━━━━━━━━━━━━━━━━\u001b[0m \u001b[32m317.0/317.0 MB\u001b[0m \u001b[31m3.7 MB/s\u001b[0m eta \u001b[36m0:00:00\u001b[0m\n",
            "\u001b[?25h  Preparing metadata (setup.py) ... \u001b[?25l\u001b[?25hdone\n",
            "  Building wheel for pyspark (setup.py) ... \u001b[?25l\u001b[?25hdone\n"
          ]
        }
      ]
    },
    {
      "cell_type": "code",
      "source": [
        "### Verificar la instalación ###\n",
        "import findspark\n",
        "\n",
        "findspark.init()\n",
        "from pyspark.sql import SparkSession\n",
        "spark = SparkSession.builder.getOrCreate()"
      ],
      "metadata": {
        "id": "r9ocpbrGQbqe"
      },
      "execution_count": 7,
      "outputs": []
    },
    {
      "cell_type": "code",
      "source": [
        "sc = spark.sparkContext"
      ],
      "metadata": {
        "id": "_vQjMESoQpz-"
      },
      "execution_count": 8,
      "outputs": []
    },
    {
      "cell_type": "code",
      "source": [
        "rdd = sc.parallelize([1,2,3,4,5])"
      ],
      "metadata": {
        "id": "SaAB7lUIQ3ku"
      },
      "execution_count": 9,
      "outputs": []
    },
    {
      "cell_type": "code",
      "source": [
        "#Funcion para restar uno en cada elemento\n",
        "rdd_resta = rdd.map(lambda x: x - 1)\n",
        "rdd_resta.collect()"
      ],
      "metadata": {
        "colab": {
          "base_uri": "https://localhost:8080/"
        },
        "id": "Zfd_RblJRJIQ",
        "outputId": "72127f2d-04ac-465b-aa92-c173e9c53127"
      },
      "execution_count": 10,
      "outputs": [
        {
          "output_type": "execute_result",
          "data": {
            "text/plain": [
              "[0, 1, 2, 3, 4]"
            ]
          },
          "metadata": {},
          "execution_count": 10
        }
      ]
    },
    {
      "cell_type": "code",
      "source": [
        "#Funcion para saber si un elemento es par o no\n",
        "rdd_par = rdd.map(lambda x: x % 2 == 0)\n",
        "\n",
        "rdd_par.collect()"
      ],
      "metadata": {
        "colab": {
          "base_uri": "https://localhost:8080/"
        },
        "id": "n-IGiTfKRzBL",
        "outputId": "dae40968-ce5c-4e2d-fa6c-f3ca24cbe7d7"
      },
      "execution_count": 11,
      "outputs": [
        {
          "output_type": "execute_result",
          "data": {
            "text/plain": [
              "[False, True, False, True, False]"
            ]
          },
          "metadata": {},
          "execution_count": 11
        }
      ]
    },
    {
      "cell_type": "code",
      "source": [
        "rdd_texto = sc.parallelize(['jose', 'juan', 'lucia'])"
      ],
      "metadata": {
        "id": "YfBiX55KSU7Q"
      },
      "execution_count": 12,
      "outputs": []
    },
    {
      "cell_type": "code",
      "source": [
        "#Funcion para tomar cada elemento y pasarlo a mayusculas\n",
        "rdd_mayuscula = rdd_texto.map(lambda x: x.upper())\n",
        "\n",
        "rdd_mayuscula.collect()"
      ],
      "metadata": {
        "colab": {
          "base_uri": "https://localhost:8080/"
        },
        "id": "DGrTdw1-Sni4",
        "outputId": "27110697-b06a-4e36-c48f-b8000e11bd31"
      },
      "execution_count": 13,
      "outputs": [
        {
          "output_type": "execute_result",
          "data": {
            "text/plain": [
              "['JOSE', 'JUAN', 'LUCIA']"
            ]
          },
          "metadata": {},
          "execution_count": 13
        }
      ]
    },
    {
      "cell_type": "code",
      "source": [
        "#Funcion para agregar 'Hola' en cada elemento\n",
        "rdd_hola = rdd_texto.map(lambda x: 'Hola ' + x)\n",
        "\n",
        "rdd_hola.collect()"
      ],
      "metadata": {
        "colab": {
          "base_uri": "https://localhost:8080/"
        },
        "id": "zfx8R9eTS_g5",
        "outputId": "a03e8e0a-0aac-41f1-bbae-fae05f064248"
      },
      "execution_count": 14,
      "outputs": [
        {
          "output_type": "execute_result",
          "data": {
            "text/plain": [
              "['Hola jose', 'Hola juan', 'Hola lucia']"
            ]
          },
          "metadata": {},
          "execution_count": 14
        }
      ]
    }
  ]
}